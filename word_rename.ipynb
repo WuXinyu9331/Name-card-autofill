{
 "cells": [
  {
   "cell_type": "code",
   "execution_count": 128,
   "id": "dcb6cc89",
   "metadata": {},
   "outputs": [],
   "source": [
    "from docx import Document\n",
    "from docx.shared import Cm\n",
    "from docx.enum.text import WD_ALIGN_PARAGRAPH\n",
    "import re\n",
    "from docx.shared import Pt,RGBColor\n",
    "from docx.enum.style import WD_STYLE_TYPE\n",
    "from docx.oxml.ns import qn\n",
    "from copy import deepcopy\n",
    "from docx.enum.table import WD_TABLE_ALIGNMENT\n",
    "import os, shutil"
   ]
  },
  {
   "cell_type": "code",
   "execution_count": 140,
   "id": "09692910",
   "metadata": {},
   "outputs": [],
   "source": [
    "#删除原有文件\n",
    "#table = document.tables[0]\n",
    "#new_table = deepcopy(table)\n",
    "#paragraph = document.add_paragraph()\n",
    "#paragraph._p.addnext(new_table._element)\n",
    "r_path=\"E:\\极地\\自动名牌编辑\\out0.docx\"\n",
    "os.remove(r_path)\n",
    "r_path=\"E:\\极地\\自动名牌编辑\\out1.docx\"\n",
    "os.remove(r_path)"
   ]
  },
  {
   "cell_type": "code",
   "execution_count": 137,
   "id": "c27a6edc",
   "metadata": {
    "scrolled": true
   },
   "outputs": [],
   "source": [
    "#提取名字\n",
    "import openpyxl\n",
    "wb = openpyxl.load_workbook('list.xlsx')\n",
    "ws = wb.active\n",
    "data=[]\n",
    "for cell in ws['A']:\n",
    "    data.append(str(cell.value))\n",
    "#删除空格，将两个字中间插入两个空格\n",
    "i=0\n",
    "for name in data:\n",
    "    data[i]=data[i].replace(\" \",\"\")\n",
    "    if (len(data[i]) == 2):\n",
    "        name_list=list(data[i])\n",
    "        name_list.insert(1,'  ')\n",
    "        data[i]=''.join(name_list)\n",
    "    i=i+1\n",
    "while len(data)% 50 !=0:\n",
    "    data.append('')"
   ]
  },
  {
   "cell_type": "code",
   "execution_count": 138,
   "id": "4ad619dc",
   "metadata": {
    "scrolled": true
   },
   "outputs": [],
   "source": [
    "document=Document(r\"E:\\极地\\自动名牌编辑\\中文版席卡模板.docx\")\n",
    "document.styles['Normal'].font.size=Pt(150)\n",
    "document.styles['Normal'].font.name= u'宋体'"
   ]
  },
  {
   "cell_type": "code",
   "execution_count": 139,
   "id": "09375f58",
   "metadata": {},
   "outputs": [],
   "source": [
    "def rewn(Name,re_num):\n",
    "    tables=document.tables\n",
    "    tables[re_num].cell(0,0).text=Name\n",
    "    tables[re_num].cell(0,1).text=Name\n",
    "    tables[re_num].cell(0,0).paragraphs[0].paragraph_format.alignment = WD_TABLE_ALIGNMENT.CENTER\n",
    "    tables[re_num].cell(0,1).paragraphs[0].paragraph_format.alignment = WD_TABLE_ALIGNMENT.CENTER\n",
    "j=0\n",
    "jt=0\n",
    "q=0\n",
    "for name in data:\n",
    "    rewn(data[j],jt)\n",
    "    j=j+1\n",
    "    jt=jt+1\n",
    "    if (j % 50 == 0):\n",
    "        new_file_dir=\"E:\\极地\\自动名牌编辑\"\n",
    "        new_name='out'+str(q)\n",
    "        new_name=new_name+'.docx'\n",
    "        new_file = os.path.join(new_file_dir, new_name)\n",
    "        document.save(new_file)\n",
    "        jt = jt - 50\n",
    "        q = q + 1\n"
   ]
  }
 ],
 "metadata": {
  "kernelspec": {
   "display_name": "Python 3 (ipykernel)",
   "language": "python",
   "name": "python3"
  },
  "language_info": {
   "codemirror_mode": {
    "name": "ipython",
    "version": 3
   },
   "file_extension": ".py",
   "mimetype": "text/x-python",
   "name": "python",
   "nbconvert_exporter": "python",
   "pygments_lexer": "ipython3",
   "version": "3.9.13"
  }
 },
 "nbformat": 4,
 "nbformat_minor": 5
}
